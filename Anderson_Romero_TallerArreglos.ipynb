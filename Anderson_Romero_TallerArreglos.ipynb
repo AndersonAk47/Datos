{
 "cells": [
  {
   "cell_type": "markdown",
   "metadata": {},
   "source": [
    "    Ejercicio 1 \n",
    "Números pares e impares"
   ]
  },
  {
   "cell_type": "code",
   "execution_count": 61,
   "metadata": {},
   "outputs": [
    {
     "name": "stdout",
     "output_type": "stream",
     "text": [
      "[0, 2, 4, 6, 8, 10, 12, 14, 16, 18, 20, 22, 24, 26, 28, 30, 32, 34, 36, 38, 40, 42, 44, 46, 48, 50, 52, 54, 56, 58, 60, 62, 64, 66, 68, 70, 72, 74, 76, 78, 80, 82, 84, 86, 88, 90, 92, 94, 96, 98] \n",
      "\n",
      " [1, 3, 5, 7, 9, 11, 13, 15, 17, 19, 21, 23, 25, 27, 29, 31, 33, 35, 37, 39, 41, 43, 45, 47, 49, 51, 53, 55, 57, 59, 61, 63, 65, 67, 69, 71, 73, 75, 77, 79, 81, 83, 85, 87, 89, 91, 93, 95, 97, 99]\n"
     ]
    }
   ],
   "source": [
    "    # Definicion de variables \n",
    "numeros = range(100)\n",
    "pares: list[int] = []\n",
    "impares: list[int] = []\n",
    "\n",
    "    # Recorre  el rango de numeros. \n",
    "for num in numeros:\n",
    "           \n",
    "           # Condicion Si, El numero es divisible en dos agregar a lista pares Si no agregar en lista imparaes \n",
    "       if num % 2 ==0 :\n",
    "            pares.append(num)\n",
    "       else:\n",
    "          impares.append(num)\n",
    "\n",
    "    # Imprime resultado\n",
    "print(pares,\"\\n\\n\" ,impares)"
   ]
  },
  {
   "cell_type": "code",
   "execution_count": 44,
   "metadata": {},
   "outputs": [
    {
     "name": "stdout",
     "output_type": "stream",
     "text": [
      "[0, 2, 4, 6, 8, 10, 12, 14, 16, 18, 20, 22, 24, 26, 28, 30, 32, 34, 36, 38, 40, 42, 44, 46, 48, 50, 52, 54, 56, 58, 60, 62, 64, 66, 68, 70, 72, 74, 76, 78, 80, 82, 84, 86, 88, 90, 92, 94, 96, 98] \n",
      "\n",
      " [1, 3, 5, 7, 9, 11, 13, 15, 17, 19, 21, 23, 25, 27, 29, 31, 33, 35, 37, 39, 41, 43, 45, 47, 49, 51, 53, 55, 57, 59, 61, 63, 65, 67, 69, 71, 73, 75, 77, 79, 81, 83, 85, 87, 89, 91, 93, 95, 97, 99]\n"
     ]
    }
   ],
   "source": [
    "         # Definicion de variables \n",
    "numeros = range(100)\n",
    "pares: list[int] = []\n",
    "impares: list[int] = []\n",
    "i:int =0\n",
    "\n",
    "    # Recorre  el rango de numeros.\n",
    "    # Condicion Si, El numero es divisible en dos agregar a lista pares Si no agregar en lista imparaes \n",
    "while i < len(numeros):\n",
    "      num: int = numeros[i]\n",
    "      if num % 2 ==0 :\n",
    "            pares.append(num)\n",
    "      else:\n",
    "          impares.append(num)\n",
    "      i+=1\n",
    "\n",
    "    # Imprime resultado\n",
    "print(pares,\"\\n\\n\" ,impares)"
   ]
  },
  {
   "cell_type": "markdown",
   "metadata": {},
   "source": [
    "    Ejercicio 2\n",
    "Contador de vocales"
   ]
  },
  {
   "cell_type": "code",
   "execution_count": 60,
   "metadata": {},
   "outputs": [
    {
     "name": "stdout",
     "output_type": "stream",
     "text": [
      "[4, 4, 5, 7, 1]\n"
     ]
    }
   ],
   "source": [
    "    # Definicion cadena de texto para  conteo de bocales.\n",
    "frase =list(\"https://colab.research.google.com/drive/1tnNas7GDq2BziymzhPGCAwFwzQxiY7IO#scrollTo=dGcki2Wz4zZU\")\n",
    "\n",
    "    # Definicion de cadena a contar\n",
    "vocales = \"aeiou\"\n",
    "\n",
    "    # Conteo de vocales ddes 0 \n",
    "conteo = [0,0,0,0,0]\n",
    "\n",
    "    # Recore desde en indice 0 la lista frase\n",
    "for l in frase:\n",
    "     for v in vocales:\n",
    "         \n",
    "             # Convierte cadena de texto en minusculas.\n",
    "         if v ==l.lower():\n",
    "              \n",
    "                  # Condicio  Si  Vocales se encuentrasn en frase \n",
    "              if v ==\"a\":\n",
    "                 conteo[0]+= 1\n",
    "              if v == \"e\":\n",
    "                conteo[1]+= 1\n",
    "              if v == \"i\":\n",
    "                conteo[2]+= 1\n",
    "              if v == \"o\":\n",
    "                conteo[3]+= 1\n",
    "              if v == \"u\":\n",
    "                conteo[4]+= 1\n",
    "        \n",
    "    # Imprime resultado\n",
    "print(conteo)\n"
   ]
  },
  {
   "cell_type": "code",
   "execution_count": null,
   "metadata": {},
   "outputs": [
    {
     "name": "stdout",
     "output_type": "stream",
     "text": [
      "{'a': 4, 'e': 5, 'i': 4, 'o': 3, 'u': 4}\n"
     ]
    }
   ],
   "source": [
    "    # Definicion cadena de texto para  conteo de bocales.\n",
    "frase = \"https://site3.q10.com/EducacionVirtual/v3/CursosVirtuales/79502001/Detalle#4_60781586\"\n",
    "\n",
    "    # Definicion de cadena a contar\n",
    "vocales = \"aeiou\"\n",
    "\n",
    "    # Creacion de un diccionario para contar desde el indice 0\n",
    "conteo = {vocal: 0 for vocal in vocales}\n",
    "\n",
    "    # Convierte cadena De texto en minusculas.\n",
    "for l in frase.lower():\n",
    "     if l in conteo:\n",
    "        conteo[l] += 1\n",
    "\n",
    "    # Imprime resultado\n",
    "print(conteo)\n",
    "\n"
   ]
  },
  {
   "cell_type": "code",
   "execution_count": 18,
   "metadata": {},
   "outputs": [
    {
     "name": "stdout",
     "output_type": "stream",
     "text": [
      " Las veces que aparece la vocal A son 5\n",
      " Las veces que aparece la vocal E son 5\n",
      " Las veces que aparece la vocal I son 5\n",
      " Las veces que aparece la vocal O son 7\n",
      " Las veces que aparece la vocal U son 2\n"
     ]
    }
   ],
   "source": [
    "    # Definicion cadena de texto para  conteo de bocales. \n",
    "frase = \"https://colab.Eesearch.google.com/drive/1tANas7GDq2BziymzhPGCAwFwzQxiY7IO#scrollTo=dGckiUWz4zZU\"\n",
    "\n",
    "    # Convierte cadena e texto en minusculas.\n",
    "frase=frase.lower()\n",
    "\n",
    "    # Conteo de vocales.\n",
    "resultado1 = frase.count(\"a\")\n",
    "resultado2 = frase.count(\"e\")\n",
    "resultado3 = frase.count(\"i\")\n",
    "resultado4 = frase.count(\"o\")\n",
    "resultado5 = frase.count(\"u\")\n",
    "\n",
    "    # Imprime resultados\n",
    "print(f\" Las veces que aparece la vocal A son {resultado1}\")\n",
    "print(f\" Las veces que aparece la vocal E son {resultado2}\")\n",
    "print(f\" Las veces que aparece la vocal I son {resultado3}\")\n",
    "print(f\" Las veces que aparece la vocal O son {resultado4}\")\n",
    "print(f\" Las veces que aparece la vocal U son {resultado5}\")"
   ]
  },
  {
   "cell_type": "markdown",
   "metadata": {},
   "source": [
    "    Ejercicio 3\n",
    "Calculadora de promedio"
   ]
  },
  {
   "cell_type": "code",
   "execution_count": 28,
   "metadata": {},
   "outputs": [
    {
     "name": "stdout",
     "output_type": "stream",
     "text": [
      " La nota final es : 3.8333333333333335\n"
     ]
    }
   ],
   "source": [
    "    # Definicion de variables \n",
    "nota1 = 5\n",
    "nota2 = float (3.5)\n",
    "nota3 = 3\n",
    "\n",
    "\n",
    "    # Calcula el promedio de las tres notas. Guardadndolo en la variable total\n",
    "total = (nota1+nota2 + nota3) /3\n",
    "\n",
    "    # Imprime resultado \n",
    "print(f\" La nota final es : {total}\" )"
   ]
  },
  {
   "cell_type": "code",
   "execution_count": null,
   "metadata": {},
   "outputs": [],
   "source": [
    "    # Definicion de lista vacia \n",
    "notas : list[float]=[]\n",
    " \n",
    "    # Solicita al usuario que infrese cantidad de notas a calcular\n",
    "total_notas: int =int(input(\"Ingrese el numero de notas: \"))\n",
    "\n",
    "    # Recorre el rango de numero desde 0 hasta el total_notas .Solicitando al usuario la nota\n",
    "for i in range(total_notas):\n",
    "    nota:float = float (input(f\"ingrse la notas{i+1}:\"))\n",
    "    notas.append(nota)\n",
    "\n",
    "prom_nota: float = 0\n",
    "\n",
    "    # Calcula el promedio dividiendo la suma total por el número de notas.\n",
    "for n in notas:\n",
    "     prom_nota += n\n",
    "prom_nota /=total_notas\n",
    "    \n",
    "    # Imprime resultado\n",
    "print(f\"El promedio de la nota es: {prom_nota}, espero que mejores\")\n"
   ]
  },
  {
   "cell_type": "markdown",
   "metadata": {},
   "source": [
    "    Ejercicio 4\n",
    "Eliminar duplicados"
   ]
  },
  {
   "cell_type": "code",
   "execution_count": 29,
   "metadata": {},
   "outputs": [
    {
     "name": "stdout",
     "output_type": "stream",
     "text": [
      "['java', 'ruby', 'c++', 'javascript', 'c', 'go', 'rust', 'python', 'css', 'html', 'php', 'c#']\n"
     ]
    }
   ],
   "source": [
    "    # Defincion de lista de lenguanjes duplicados\n",
    "lenguajes = [\n",
    "    'python', 'java', 'ruby', 'php', 'javascript', 'html', 'css', 'python',\n",
    "    'c', 'java', 'python', 'java', 'ruby', 'php', 'javascript', 'html', 'css',\n",
    "    'python', 'c', 'java', 'rust', 'go', 'c', 'c++', 'c#', 'c', 'java', 'ruby',\n",
    "    'php', 'javascript', 'html', 'css', 'python', 'c', 'java', 'python', 'java',\n",
    "    'ruby', 'php', 'javascript', 'html', 'css', 'python', 'c', 'java', 'rust',\n",
    "    'go', 'c', 'c++', 'c#', 'c', 'java', 'ruby', 'php', 'javascript', 'html',\n",
    "    'css', 'python', 'c', 'java'\n",
    "]\n",
    "\n",
    "    # Elimina dulicados con la funcion set . Se guardan  una nueva lista\n",
    "lenguajesU= list(set(lenguajes))\n",
    "\n",
    "    # Imprime resultado\n",
    "print(lenguajesU)"
   ]
  },
  {
   "cell_type": "code",
   "execution_count": 30,
   "metadata": {},
   "outputs": [
    {
     "name": "stdout",
     "output_type": "stream",
     "text": [
      "['python', 'java', 'ruby', 'php', 'javascript', 'html', 'css', 'c', 'rust', 'go', 'c++', 'c#']\n"
     ]
    }
   ],
   "source": [
    "    # Defincion de lista de lenguanjes duplicados\n",
    "lenguajes = [\n",
    "    'python', 'java', 'ruby', 'php', 'javascript', 'html', 'css', 'python',\n",
    "    'c', 'java', 'python', 'java', 'ruby', 'php', 'javascript', 'html', 'css',\n",
    "    'python', 'c', 'java', 'rust', 'go', 'c', 'c++', 'c#', 'c', 'java', 'ruby',\n",
    "    'php', 'javascript', 'html', 'css', 'python', 'c', 'java', 'python', 'java',\n",
    "    'ruby', 'php', 'javascript', 'html', 'css', 'python', 'c', 'java', 'rust',\n",
    "    'go', 'c', 'c++', 'c#', 'c', 'java', 'ruby', 'php', 'javascript', 'html',\n",
    "    'css', 'python', 'c', 'java'\n",
    "]\n",
    "\n",
    "        # Elimina dulicados con un dicionario manteniendo su orden. Se guardan  una nueva lista\n",
    "lenguajesU= list(dict.fromkeys(lenguajes))\n",
    "\n",
    "    # Imprime resultado\n",
    "print(lenguajesU)"
   ]
  },
  {
   "cell_type": "markdown",
   "metadata": {},
   "source": [
    "     Ejercicio 5\n",
    "Invertir una lista"
   ]
  },
  {
   "cell_type": "code",
   "execution_count": 40,
   "metadata": {},
   "outputs": [
    {
     "name": "stdout",
     "output_type": "stream",
     "text": [
      "10\n",
      "9\n",
      "8\n",
      "7\n",
      "6\n",
      "5\n",
      "4\n",
      "3\n",
      "2\n",
      "1\n"
     ]
    }
   ],
   "source": [
    "# Definicion de lista numeros\n",
    "numeros = [1, 2, 3, 4, 5, 6, 7, 8, 9, 10]\n",
    "\n",
    "    # Recorre el rango desde en el ultimo indice\n",
    "for i in range(len(numeros) -1, -1, -1):\n",
    "    print(numeros[i])"
   ]
  },
  {
   "cell_type": "code",
   "execution_count": 43,
   "metadata": {},
   "outputs": [
    {
     "name": "stdout",
     "output_type": "stream",
     "text": [
      "[10, 9, 8, 7, 6, 5, 4, 3, 2, 1]\n"
     ]
    }
   ],
   "source": [
    "    # Definicion de lista numeros\n",
    "numeros = [1, 2, 3, 4, 5, 6, 7, 8, 9, 10]\n",
    "\n",
    "    # Metodo reverse invierte el orden de los elementos  \n",
    "numeros.reverse()\n",
    "\n",
    "    # Imprime resultado\n",
    "print(numeros)\n"
   ]
  },
  {
   "cell_type": "markdown",
   "metadata": {},
   "source": [
    "      Ejercicio 6 triangulos "
   ]
  },
  {
   "cell_type": "code",
   "execution_count": 45,
   "metadata": {},
   "outputs": [
    {
     "name": "stdout",
     "output_type": "stream",
     "text": [
      "*\n",
      "**\n",
      "***\n",
      "****\n",
      "*****\n"
     ]
    }
   ],
   "source": [
    "numero= int(5)\n",
    "\n",
    "for i in range(1, numero + 1):\n",
    "    print(\"*\" * i)"
   ]
  },
  {
   "cell_type": "code",
   "execution_count": 46,
   "metadata": {},
   "outputs": [
    {
     "name": "stdout",
     "output_type": "stream",
     "text": [
      "* \n",
      "* * \n",
      "* * * \n",
      "* * * * \n",
      "* * * * * \n",
      "* * * * * * \n",
      "* * * * * * * \n",
      "* * * * * * * * \n"
     ]
    }
   ],
   "source": [
    "numero= int(8)\n",
    "\n",
    "for i in range(1, numero + 1):\n",
    "    print(f\"*\".center(2) * i)\n"
   ]
  },
  {
   "cell_type": "code",
   "execution_count": 50,
   "metadata": {},
   "outputs": [
    {
     "name": "stdout",
     "output_type": "stream",
     "text": [
      "*******\n",
      "******\n",
      "*****\n",
      "****\n",
      "***\n",
      "**\n",
      "*\n"
     ]
    }
   ],
   "source": [
    "numero = int(7)\n",
    "\n",
    "for i in range(numero, 0, -1):\n",
    "    print(\"*\" * i)"
   ]
  },
  {
   "cell_type": "code",
   "execution_count": 54,
   "metadata": {},
   "outputs": [
    {
     "name": "stdout",
     "output_type": "stream",
     "text": [
      "*********\n",
      " ********\n",
      "  *******\n",
      "   ******\n",
      "    *****\n",
      "     ****\n",
      "      ***\n",
      "       **\n",
      "        *\n"
     ]
    }
   ],
   "source": [
    "def reto_triangulo():\n",
    "  numeros = \"*********\"\n",
    "  cant = len(numeros )\n",
    "\n",
    "  for i in range(cant):\n",
    "     print(\" \" * i + numeros[i:])\n",
    "\n",
    "reto_triangulo()"
   ]
  },
  {
   "cell_type": "code",
   "execution_count": 58,
   "metadata": {},
   "outputs": [
    {
     "name": "stdout",
     "output_type": "stream",
     "text": [
      "       **\n",
      "      ***\n",
      "     ****\n",
      "    *****\n",
      "   ******\n",
      "  *******\n",
      " ********\n",
      "*********\n"
     ]
    }
   ],
   "source": [
    "def reto_triangulo():\n",
    "  numeros = \"*********\"\n",
    "  cant = len(numeros )\n",
    "\n",
    "  for i in range(cant -2, -1, -1):\n",
    "        print(\" \" * i + numeros[i:])\n",
    "\n",
    "reto_triangulo()"
   ]
  }
 ],
 "metadata": {
  "kernelspec": {
   "display_name": "Python 3",
   "language": "python",
   "name": "python3"
  },
  "language_info": {
   "codemirror_mode": {
    "name": "ipython",
    "version": 3
   },
   "file_extension": ".py",
   "mimetype": "text/x-python",
   "name": "python",
   "nbconvert_exporter": "python",
   "pygments_lexer": "ipython3",
   "version": "3.12.3"
  }
 },
 "nbformat": 4,
 "nbformat_minor": 2
}
